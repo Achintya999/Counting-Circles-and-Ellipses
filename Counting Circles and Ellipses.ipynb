{
 "cells": [
  {
   "cell_type": "code",
   "execution_count": 1,
   "metadata": {
    "collapsed": true
   },
   "outputs": [],
   "source": [
    "import cv2\n",
    "import numpy as np\n",
    "\n",
    "image = cv2.imread('images/blobs.jpg', 0)\n",
    "cv2.imshow('Original Image', image)\n",
    "cv2.waitKey(0)\n",
    "\n",
    "params = cv2.SimpleBlobDetector_Params()\n",
    "detector = cv2.SimpleBlobDetector_create(params)\n",
    "\n",
    "keypoints = detector.detect(image)\n",
    "\n",
    "blank = np.zeros((1,1))\n",
    "blobs = cv2.drawKeypoints(image, keypoints, blank, (0, 0, 255),\n",
    "                         cv2.DRAW_MATCHES_FLAGS_DRAW_RICH_KEYPOINTS)\n",
    "\n"
   ]
  }
 ],
 "metadata": {
  "kernelspec": {
   "display_name": "Python 3",
   "language": "python",
   "name": "python3"
  },
  "language_info": {
   "codemirror_mode": {
    "name": "ipython",
    "version": 3
   },
   "file_extension": ".py",
   "mimetype": "text/x-python",
   "name": "python",
   "nbconvert_exporter": "python",
   "pygments_lexer": "ipython3",
   "version": "3.6.1"
  }
 },
 "nbformat": 4,
 "nbformat_minor": 2
}
